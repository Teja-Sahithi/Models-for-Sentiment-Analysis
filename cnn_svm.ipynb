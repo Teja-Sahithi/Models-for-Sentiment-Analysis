{
 "cells": [
  {
   "cell_type": "code",
   "execution_count": 1,
   "id": "db7bdbdd-3cec-449d-b60a-f41b0e15fc86",
   "metadata": {},
   "outputs": [
    {
     "name": "stdout",
     "output_type": "stream",
     "text": [
      "WARNING:tensorflow:From C:\\Users\\user\\AppData\\Local\\Programs\\Python\\Python311\\Lib\\site-packages\\keras\\src\\losses.py:2976: The name tf.losses.sparse_softmax_cross_entropy is deprecated. Please use tf.compat.v1.losses.sparse_softmax_cross_entropy instead.\n",
      "\n",
      "WARNING:tensorflow:From C:\\Users\\user\\AppData\\Local\\Programs\\Python\\Python311\\Lib\\site-packages\\keras\\src\\backend.py:873: The name tf.get_default_graph is deprecated. Please use tf.compat.v1.get_default_graph instead.\n",
      "\n",
      "WARNING:tensorflow:From C:\\Users\\user\\AppData\\Local\\Programs\\Python\\Python311\\Lib\\site-packages\\keras\\src\\optimizers\\__init__.py:309: The name tf.train.Optimizer is deprecated. Please use tf.compat.v1.train.Optimizer instead.\n",
      "\n",
      "Epoch 1/5\n",
      "WARNING:tensorflow:From C:\\Users\\user\\AppData\\Local\\Programs\\Python\\Python311\\Lib\\site-packages\\keras\\src\\utils\\tf_utils.py:492: The name tf.ragged.RaggedTensorValue is deprecated. Please use tf.compat.v1.ragged.RaggedTensorValue instead.\n",
      "\n",
      "WARNING:tensorflow:From C:\\Users\\user\\AppData\\Local\\Programs\\Python\\Python311\\Lib\\site-packages\\keras\\src\\engine\\base_layer_utils.py:384: The name tf.executing_eagerly_outside_functions is deprecated. Please use tf.compat.v1.executing_eagerly_outside_functions instead.\n",
      "\n",
      "2000/2000 [==============================] - 321s 158ms/step - loss: 0.3753 - accuracy: 0.8250 - val_loss: 0.3072 - val_accuracy: 0.8673\n",
      "Epoch 2/5\n",
      "2000/2000 [==============================] - 304s 152ms/step - loss: 0.1134 - accuracy: 0.9582 - val_loss: 0.4134 - val_accuracy: 0.8458\n",
      "Epoch 3/5\n",
      "2000/2000 [==============================] - 287s 144ms/step - loss: 0.0186 - accuracy: 0.9934 - val_loss: 0.7006 - val_accuracy: 0.8399\n",
      "Epoch 4/5\n",
      "2000/2000 [==============================] - 286s 143ms/step - loss: 0.0112 - accuracy: 0.9963 - val_loss: 0.8349 - val_accuracy: 0.8363\n",
      "Epoch 5/5\n",
      "2000/2000 [==============================] - 287s 143ms/step - loss: 0.0102 - accuracy: 0.9965 - val_loss: 1.2942 - val_accuracy: 0.8441\n",
      "1250/1250 [==============================] - 5s 4ms/step\n"
     ]
    },
    {
     "data": {
      "text/html": [
       "<style>#sk-container-id-1 {color: black;}#sk-container-id-1 pre{padding: 0;}#sk-container-id-1 div.sk-toggleable {background-color: white;}#sk-container-id-1 label.sk-toggleable__label {cursor: pointer;display: block;width: 100%;margin-bottom: 0;padding: 0.3em;box-sizing: border-box;text-align: center;}#sk-container-id-1 label.sk-toggleable__label-arrow:before {content: \"▸\";float: left;margin-right: 0.25em;color: #696969;}#sk-container-id-1 label.sk-toggleable__label-arrow:hover:before {color: black;}#sk-container-id-1 div.sk-estimator:hover label.sk-toggleable__label-arrow:before {color: black;}#sk-container-id-1 div.sk-toggleable__content {max-height: 0;max-width: 0;overflow: hidden;text-align: left;background-color: #f0f8ff;}#sk-container-id-1 div.sk-toggleable__content pre {margin: 0.2em;color: black;border-radius: 0.25em;background-color: #f0f8ff;}#sk-container-id-1 input.sk-toggleable__control:checked~div.sk-toggleable__content {max-height: 200px;max-width: 100%;overflow: auto;}#sk-container-id-1 input.sk-toggleable__control:checked~label.sk-toggleable__label-arrow:before {content: \"▾\";}#sk-container-id-1 div.sk-estimator input.sk-toggleable__control:checked~label.sk-toggleable__label {background-color: #d4ebff;}#sk-container-id-1 div.sk-label input.sk-toggleable__control:checked~label.sk-toggleable__label {background-color: #d4ebff;}#sk-container-id-1 input.sk-hidden--visually {border: 0;clip: rect(1px 1px 1px 1px);clip: rect(1px, 1px, 1px, 1px);height: 1px;margin: -1px;overflow: hidden;padding: 0;position: absolute;width: 1px;}#sk-container-id-1 div.sk-estimator {font-family: monospace;background-color: #f0f8ff;border: 1px dotted black;border-radius: 0.25em;box-sizing: border-box;margin-bottom: 0.5em;}#sk-container-id-1 div.sk-estimator:hover {background-color: #d4ebff;}#sk-container-id-1 div.sk-parallel-item::after {content: \"\";width: 100%;border-bottom: 1px solid gray;flex-grow: 1;}#sk-container-id-1 div.sk-label:hover label.sk-toggleable__label {background-color: #d4ebff;}#sk-container-id-1 div.sk-serial::before {content: \"\";position: absolute;border-left: 1px solid gray;box-sizing: border-box;top: 0;bottom: 0;left: 50%;z-index: 0;}#sk-container-id-1 div.sk-serial {display: flex;flex-direction: column;align-items: center;background-color: white;padding-right: 0.2em;padding-left: 0.2em;position: relative;}#sk-container-id-1 div.sk-item {position: relative;z-index: 1;}#sk-container-id-1 div.sk-parallel {display: flex;align-items: stretch;justify-content: center;background-color: white;position: relative;}#sk-container-id-1 div.sk-item::before, #sk-container-id-1 div.sk-parallel-item::before {content: \"\";position: absolute;border-left: 1px solid gray;box-sizing: border-box;top: 0;bottom: 0;left: 50%;z-index: -1;}#sk-container-id-1 div.sk-parallel-item {display: flex;flex-direction: column;z-index: 1;position: relative;background-color: white;}#sk-container-id-1 div.sk-parallel-item:first-child::after {align-self: flex-end;width: 50%;}#sk-container-id-1 div.sk-parallel-item:last-child::after {align-self: flex-start;width: 50%;}#sk-container-id-1 div.sk-parallel-item:only-child::after {width: 0;}#sk-container-id-1 div.sk-dashed-wrapped {border: 1px dashed gray;margin: 0 0.4em 0.5em 0.4em;box-sizing: border-box;padding-bottom: 0.4em;background-color: white;}#sk-container-id-1 div.sk-label label {font-family: monospace;font-weight: bold;display: inline-block;line-height: 1.2em;}#sk-container-id-1 div.sk-label-container {text-align: center;}#sk-container-id-1 div.sk-container {/* jupyter's `normalize.less` sets `[hidden] { display: none; }` but bootstrap.min.css set `[hidden] { display: none !important; }` so we also need the `!important` here to be able to override the default hidden behavior on the sphinx rendered scikit-learn.org. See: https://github.com/scikit-learn/scikit-learn/issues/21755 */display: inline-block !important;position: relative;}#sk-container-id-1 div.sk-text-repr-fallback {display: none;}</style><div id=\"sk-container-id-1\" class=\"sk-top-container\"><div class=\"sk-text-repr-fallback\"><pre>SVC()</pre><b>In a Jupyter environment, please rerun this cell to show the HTML representation or trust the notebook. <br />On GitHub, the HTML representation is unable to render, please try loading this page with nbviewer.org.</b></div><div class=\"sk-container\" hidden><div class=\"sk-item\"><div class=\"sk-estimator sk-toggleable\"><input class=\"sk-toggleable__control sk-hidden--visually\" id=\"sk-estimator-id-1\" type=\"checkbox\" checked><label for=\"sk-estimator-id-1\" class=\"sk-toggleable__label sk-toggleable__label-arrow\">SVC</label><div class=\"sk-toggleable__content\"><pre>SVC()</pre></div></div></div></div></div>"
      ],
      "text/plain": [
       "SVC()"
      ]
     },
     "execution_count": 1,
     "metadata": {},
     "output_type": "execute_result"
    }
   ],
   "source": [
    "import numpy as np\n",
    "import pandas as pd\n",
    "import keras\n",
    "import tensorflow as tf\n",
    "from keras.preprocessing.sequence import pad_sequences\n",
    "from keras.preprocessing.text import Tokenizer\n",
    "from sklearn.model_selection import train_test_split\n",
    "from tensorflow import keras\n",
    "from tensorflow.keras.models import Sequential\n",
    "from tensorflow.keras.layers import Embedding, Conv1D, Flatten, Dense\n",
    "import re\n",
    "# Read the dataset\n",
    "data = pd.read_csv('IMDB.csv')\n",
    "x_train = data['review'].values\n",
    "y_train = data['sentiment'].values\n",
    "y_train = [0 if x == \"positive\" else 1 for x in y_train]\n",
    "\n",
    "# Clean text\n",
    "def clean_text(text):\n",
    "    if type(text) != str:\n",
    "        return str(text)\n",
    "    return re.sub(r'[^0-9A-Za-z\" \"]', '', text)\n",
    "\n",
    "x_train = [clean_text(here) for here in x_train]\n",
    "\n",
    "# Tokenization and padding\n",
    "tokenizer = Tokenizer(num_words=100000)\n",
    "tokenizer.fit_on_texts(x_train)\n",
    "word_index = tokenizer.word_index\n",
    "x_train = tokenizer.texts_to_sequences(x_train)\n",
    "max_len = max(len(sentences) for sentences in x_train)\n",
    "x_train = pad_sequences(x_train, maxlen=100)\n",
    "\n",
    "# Convert y_train to NumPy array\n",
    "y_train = np.array(y_train)\n",
    "\n",
    "# Split the data into training and validation sets\n",
    "x_train, x_val, y_train, y_val = train_test_split(x_train, y_train, test_size=0.2, random_state=42)\n",
    "\n",
    "# Model Architecture\n",
    "model = Sequential()\n",
    "model.add(Embedding(input_dim=len(word_index) + 1, output_dim=100, input_length=100))\n",
    "model.add(Conv1D(kernel_size=3, filters=32))\n",
    "model.add(Flatten())\n",
    "model.add(Dense(256, activation='relu'))\n",
    "model.add(Dense(128, activation='relu'))\n",
    "model.add(Dense(1, activation='sigmoid'))\n",
    "\n",
    "# Compile the model\n",
    "model.compile(loss='binary_crossentropy', optimizer='adam', metrics=['accuracy'])\n",
    "\n",
    "# Model Training\n",
    "model.fit(x_train, y_train, epochs=5, batch_size=20, validation_data=(x_val, y_val))\n",
    "\n",
    "# SVM Feature Extraction\n",
    "feature_extraction = model.predict(x_train)\n",
    "\n",
    "# SVM Model\n",
    "from sklearn import svm\n",
    "svm_model = svm.SVC()\n",
    "feature_extraction = feature_extraction * 100000\n",
    "svm_model.fit(feature_extraction, y_train)\n"
   ]
  },
  {
   "cell_type": "code",
   "execution_count": 4,
   "id": "b611e551-6039-40a2-a9a0-1c8595b04d1f",
   "metadata": {},
   "outputs": [
    {
     "name": "stderr",
     "output_type": "stream",
     "text": [
      "C:\\Users\\user\\AppData\\Local\\Programs\\Python\\Python311\\Lib\\site-packages\\keras\\src\\engine\\training.py:3103: UserWarning: You are saving your model as an HDF5 file via `model.save()`. This file format is considered legacy. We recommend using instead the native Keras format, e.g. `model.save('my_model.keras')`.\n",
      "  saving_api.save_model(\n"
     ]
    }
   ],
   "source": [
    "model.save('C:\\\\Users\\\\user\\\\cnnsvmmodel.h5')\n"
   ]
  },
  {
   "cell_type": "code",
   "execution_count": 9,
   "id": "e5b10ffa-e76d-4514-bf69-95886c890139",
   "metadata": {},
   "outputs": [
    {
     "name": "stdout",
     "output_type": "stream",
     "text": [
      "313/313 [==============================] - 1s 4ms/step\n",
      "Precision: 84.48%\n",
      "Recall: 84.04%\n",
      "Accuracy: 84.42%\n",
      "Classification Report:\n",
      "               precision    recall  f1-score   support\n",
      "\n",
      "           0       0.84      0.85      0.85      5039\n",
      "           1       0.84      0.84      0.84      4961\n",
      "\n",
      "    accuracy                           0.84     10000\n",
      "   macro avg       0.84      0.84      0.84     10000\n",
      "weighted avg       0.84      0.84      0.84     10000\n",
      "\n"
     ]
    }
   ],
   "source": [
    "\n",
    "# Extract features using the trained model\n",
    "feature_extraction_test = model.predict(x_val)\n",
    "feature_extraction_test = feature_extraction_test * 100000\n",
    "\n",
    "# Use the SVM model for predictions on the test set\n",
    "y_pred = svm_model.predict(feature_extraction_test)\n",
    "\n",
    "# Evaluate the performance\n",
    "from sklearn.metrics import accuracy_score, classification_report\n",
    "from sklearn.metrics import precision_score, recall_score\n",
    "accuracy = accuracy_score(y_val, y_pred)\n",
    "precision = precision_score(y_val, y_pred)\n",
    "recall = recall_score(y_val, y_pred)\n",
    "\n",
    "print(f'Precision: {precision * 100:.2f}%')\n",
    "print(f'Recall: {recall * 100:.2f}%')\n",
    "print(f'Accuracy: {accuracy * 100:.2f}%')\n",
    "\n",
    "\n",
    "classification_rep = classification_report(y_val, y_pred)\n",
    "print('Classification Report:\\n', classification_rep)\n"
   ]
  },
  {
   "cell_type": "code",
   "execution_count": 93,
   "id": "8f215add-01fe-444f-9820-2676d49bc332",
   "metadata": {},
   "outputs": [
    {
     "name": "stdout",
     "output_type": "stream",
     "text": [
      "Accuracy on Training Set: 99.87%\n"
     ]
    }
   ],
   "source": [
    "# Predict labels for the training set\n",
    "y_train_pred = svm_model.predict(feature_extraction)\n",
    "\n",
    "# Evaluate accuracy on the training set\n",
    "train_accuracy = accuracy_score(y_train, y_train_pred)\n",
    "print(f'Accuracy on Training Set: {train_accuracy * 100:.2f}%')\n"
   ]
  },
  {
   "cell_type": "code",
   "execution_count": 8,
   "id": "2e02d110-1c7d-469b-b5dd-3c5d0968baa7",
   "metadata": {},
   "outputs": [
    {
     "name": "stdout",
     "output_type": "stream",
     "text": [
      "Precision: 84.48%\n",
      "Recall: 84.04%\n"
     ]
    }
   ],
   "source": [
    "from sklearn.metrics import precision_score, recall_score\n",
    "\n",
    "# Assuming y_val and y_pred are your true labels and predicted labels\n",
    "precision = precision_score(y_val, y_pred)\n",
    "recall = recall_score(y_val, y_pred)\n",
    "\n",
    "print(f'Precision: {precision * 100:.2f}%')\n",
    "print(f'Recall: {recall * 100:.2f}%')\n"
   ]
  },
  {
   "cell_type": "code",
   "execution_count": 1,
   "id": "5e073dd1-f0e3-416c-98bd-da64272434bc",
   "metadata": {},
   "outputs": [
    {
     "ename": "NameError",
     "evalue": "name 'y_val' is not defined",
     "output_type": "error",
     "traceback": [
      "\u001b[1;31m---------------------------------------------------------------------------\u001b[0m",
      "\u001b[1;31mNameError\u001b[0m                                 Traceback (most recent call last)",
      "Cell \u001b[1;32mIn[1], line 6\u001b[0m\n\u001b[0;32m      3\u001b[0m \u001b[38;5;28;01mimport\u001b[39;00m \u001b[38;5;21;01mmatplotlib\u001b[39;00m\u001b[38;5;21;01m.\u001b[39;00m\u001b[38;5;21;01mpyplot\u001b[39;00m \u001b[38;5;28;01mas\u001b[39;00m \u001b[38;5;21;01mplt\u001b[39;00m\n\u001b[0;32m      5\u001b[0m \u001b[38;5;66;03m# Compute confusion matrix\u001b[39;00m\n\u001b[1;32m----> 6\u001b[0m conf_matrix_train \u001b[38;5;241m=\u001b[39m confusion_matrix(\u001b[43my_val\u001b[49m, y_pred)\n\u001b[0;32m      8\u001b[0m \u001b[38;5;66;03m# Create a heatmap for the confusion matrix\u001b[39;00m\n\u001b[0;32m      9\u001b[0m plt\u001b[38;5;241m.\u001b[39mfigure(figsize\u001b[38;5;241m=\u001b[39m(\u001b[38;5;241m8\u001b[39m, \u001b[38;5;241m6\u001b[39m))\n",
      "\u001b[1;31mNameError\u001b[0m: name 'y_val' is not defined"
     ]
    }
   ],
   "source": [
    "from sklearn.metrics import confusion_matrix\n",
    "import seaborn as sns\n",
    "import matplotlib.pyplot as plt\n",
    "\n",
    "# Compute confusion matrix\n",
    "conf_matrix_train = confusion_matrix(y_val, y_pred)\n",
    "\n",
    "# Create a heatmap for the confusion matrix\n",
    "plt.figure(figsize=(8, 6))\n",
    "sns.heatmap(conf_matrix_train, annot=True, fmt=\"d\", cmap=\"Blues\", xticklabels=['Negative', 'Positive'], yticklabels=['Negative', 'Positive'])\n",
    "plt.title('Confusion Matrix - Training Set')\n",
    "plt.xlabel('Predicted')\n",
    "plt.ylabel('Actual')\n",
    "plt.show()\n"
   ]
  },
  {
   "cell_type": "markdown",
   "id": "2ee949eb-5c6d-4dd6-921d-f901ebe15ae5",
   "metadata": {},
   "source": [
    "# def clean_text(text):\n",
    "     if type(text) != str:\n",
    "        return str(text)\n",
    "     text=re.sub(r'[^0-9A-Za-z\" \"]', '', text)\n",
    "     return text.lower()\n",
    "\n",
    "def predict_sentiment(statement, model, tokenizer, max_len):\n",
    "    # Clean text\n",
    "    cleaned_statement = clean_text(statement)\n",
    "    #print(cleaned_statement)\n",
    "    tokenizer = Tokenizer(num_words=100000)\n",
    "    tokenizer.fit_on_texts([cleaned_statement])\n",
    "    #word_index = tokenizer.word_index\n",
    "    #print(word_index)\n",
    "\n",
    "    # Tokenization and padding\n",
    "    sequence = tokenizer.texts_to_sequences([cleaned_statement])\n",
    "   # print(sequence)\n",
    "    padded_sequence = pad_sequences(sequence, maxlen=100)\n",
    "   # print(padded_sequence)\n",
    "\n",
    "    # Model prediction\n",
    "    feature_extraction = model.predict(padded_sequence)\n",
    "    print(feature_extraction)\n",
    "    feature_extraction = feature_extraction * 100000\n",
    "    print(feature_extraction)# Scaling for SVM model compatibility\n",
    "    prediction = svm_model.predict(feature_extraction)\n",
    "    print(prediction)\n",
    "\n",
    "    # Convert prediction to sentiment label\n",
    "    sentiment = \"positive\" if prediction[0] == 0 else \"negative\"\n",
    "\n",
    "    return sentiment\n",
    "    \n",
    "\n",
    "# Example usage\n",
    "statement_to_predict = \"An awful film&*^%\"\n",
    "predicted_sentiment = predict_sentiment(statement_to_predict, model, tokenizer, max_len)\n",
    "print(\"Predicted Sentiment:\", predicted_sentiment)"
   ]
  },
  {
   "cell_type": "code",
   "execution_count": null,
   "id": "24b1710b-cc27-4bc3-af46-32ddf517d85c",
   "metadata": {},
   "outputs": [],
   "source": []
  }
 ],
 "metadata": {
  "kernelspec": {
   "display_name": "Python 3 (ipykernel)",
   "language": "python",
   "name": "python3"
  },
  "language_info": {
   "codemirror_mode": {
    "name": "ipython",
    "version": 3
   },
   "file_extension": ".py",
   "mimetype": "text/x-python",
   "name": "python",
   "nbconvert_exporter": "python",
   "pygments_lexer": "ipython3",
   "version": "3.11.5"
  }
 },
 "nbformat": 4,
 "nbformat_minor": 5
}
